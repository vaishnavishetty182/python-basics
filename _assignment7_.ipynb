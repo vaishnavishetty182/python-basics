{
 "cells": [
  {
   "cell_type": "markdown",
   "metadata": {
    "id": "mQWL3Un4AbTs"
   },
   "source": [
    "1. Explain what inheritance is in object-oriented programming and why it is used.\n",
    "\n",
    "basically allows one class to take its method and properties from another class, basically benificial for code reusability\n",
    "\n",
    "2. Discuss the concept of single inheritance and multiple inheritance, highlighting their\n",
    "differences and advantages.\n",
    "\n",
    "single inheritance - where a inhertiance happens from one single base class\n",
    "\n",
    "adv - simple structure\n",
    "\n",
    "multiple inheritance - where intheritance happens from multiple base classes\n",
    "\n",
    "adv - it has capability to take in functionalties from multiple classes\n",
    "\n",
    "3. Explain the terms \"base class\" and \"derived class\" in the context of inheritance.\n",
    "\n",
    "base class - this class get inherited by other classes, providing attiributes, functionalities\n",
    "\n",
    "derived class - inherits from base class, and can also override it with behaviour of base class\n",
    "\n",
    "\n",
    "4. What is the significance of the \"protected\" access modifier in inheritance? How does\n",
    "it differ from \"private\" and \"public\" modifiers?\n",
    "\n",
    "Public is Accessible anywhere.\n",
    "\n",
    "Protected is Accessible within the class, derived classes, and within the same package/module.\n",
    "\n",
    "Private is Accessible only within the class. Not inherited by derived classes.\n",
    "\n",
    "Significance of Protected is it allows controlled access for derived classes while keeping some encapsulation.\n",
    "\n",
    "\n",
    "5. What is the purpose of the \"super\" keyword in inheritance? Provide an example.\n",
    "\n",
    "super is used in a derived class to call a constructor or method of the base class or parent class. It ensures the base class is initialized or its methods are reused."
   ]
  },
  {
   "cell_type": "code",
   "execution_count": null,
   "metadata": {
    "id": "vILE96NOAIOa"
   },
   "outputs": [],
   "source": []
  },
  {
   "cell_type": "markdown",
   "metadata": {
    "id": "Vwo-hahdAdFs"
   },
   "source": [
    "6.  Create a base class called \"Vehicle\" with attributes like \"make\", \"model\", and \"year\".\n",
    "Then, create a derived class called \"Car\" that inherits from \"Vehicle\" and adds an\n",
    "attribute called \"fuel_type\". Implement appropriate methods in both classes.\n",
    "\n",
    "class vehicle():\n",
    "  def __init__()"
   ]
  },
  {
   "cell_type": "code",
   "execution_count": 3,
   "metadata": {
    "executionInfo": {
     "elapsed": 648,
     "status": "ok",
     "timestamp": 1733507060351,
     "user": {
      "displayName": "kannaya sai",
      "userId": "01360627964298848726"
     },
     "user_tz": -330
    },
    "id": "kkxoCsIPAdeO"
   },
   "outputs": [],
   "source": [
    "class Vehicle():\n",
    "  def __init__(self, make, model, year):\n",
    "    self.make = make\n",
    "    self.model = model\n",
    "    self.year = year\n",
    "\n",
    "class Car(Vehicle):\n",
    "  def __init__(self, make, model, year, fuel_type):\n",
    "    super().__init__(make, model, year)\n",
    "    self.fuel_type = fuel_type"
   ]
  },
  {
   "cell_type": "markdown",
   "metadata": {
    "id": "Wg4fvNj-Adx5"
   },
   "source": [
    " Create a base class called \"Employee\" with attributes like \"name\" and \"salary.\"\n",
    "Derive two classes, \"Manager\" and \"Developer,\" from \"Employee.\" Add an additional\n",
    "attribute called \"department\" for the \"Manager\" class and \"programming_language\"\n",
    "for the \"Developer\" class."
   ]
  },
  {
   "cell_type": "code",
   "execution_count": 5,
   "metadata": {
    "executionInfo": {
     "elapsed": 657,
     "status": "ok",
     "timestamp": 1733507158821,
     "user": {
      "displayName": "kannaya sai",
      "userId": "01360627964298848726"
     },
     "user_tz": -330
    },
    "id": "BmxpBgWLAePU"
   },
   "outputs": [],
   "source": [
    "class Employee():\n",
    "  def __init__(self, name, salary):\n",
    "    self.name = name\n",
    "    self.salary = salary\n",
    "\n",
    "class Manager(Employee):\n",
    "  def __init__(self, name, salary, department):\n",
    "    super().__init__(name, salary)\n",
    "    self.department = department\n",
    "\n",
    "class Developer(Employee):\n",
    "  def __init__(self, name, salary, programming_language):\n",
    "    super().__init__(name, salary)\n",
    "    self.programming_language = programming_language\n"
   ]
  },
  {
   "cell_type": "markdown",
   "metadata": {
    "id": "i7rnNin3AemU"
   },
   "source": [
    "Design a base class called \"Shape\" with attributes like \"colour\" and \"border_width.\"\n",
    "Create derived classes, \"Rectangle\" and \"Circle,\" that inherit from \"Shape\" and add\n",
    "specific attributes like \"length\" and \"width\" for the \"Rectangle\" class and \"radius\" for\n",
    "the \"Circle\" class."
   ]
  },
  {
   "cell_type": "code",
   "execution_count": null,
   "metadata": {
    "id": "BjvbuJDBAfAk"
   },
   "outputs": [],
   "source": [
    "class Shape():\n",
    "  def __init__(self, colour, border_width):\n",
    "    self.colour = colour\n",
    "    self.border_width = border_width\n",
    "\n",
    "class Rectangle(Shape):\n",
    "  def __init__(self, colour, border_width, length, width):\n",
    "    super().__init__(colour, border_width)\n",
    "    self.length = length\n",
    "    self.width = width\n",
    "\n",
    "class Circle(Shape):\n",
    "  def __init__(self, colour, border_width, radius):\n",
    "    super().__init__(colour, border_width)\n",
    "    self.radius = radius"
   ]
  },
  {
   "cell_type": "markdown",
   "metadata": {
    "id": "a9FAEm2XFaqW"
   },
   "source": [
    " Create a base class called \"Device\" with attributes like \"brand\" and \"model.\" Derive\n",
    "two classes, \"Phone\" and \"Tablet,\" from \"Device.\" Add specific attributes like\n",
    "\"screen_size\" for the \"Phone\" class and \"battery_capacity\" for the \"Tablet\" class."
   ]
  },
  {
   "cell_type": "code",
   "execution_count": 10,
   "metadata": {
    "colab": {
     "base_uri": "https://localhost:8080/"
    },
    "executionInfo": {
     "elapsed": 369,
     "status": "ok",
     "timestamp": 1733507797584,
     "user": {
      "displayName": "kannaya sai",
      "userId": "01360627964298848726"
     },
     "user_tz": -330
    },
    "id": "7W8Nsp4ZFlIy",
    "outputId": "80c581c7-ab38-4c61-f173-976cf51ad213"
   },
   "outputs": [
    {
     "name": "stdout",
     "output_type": "stream",
     "text": [
      "24\n"
     ]
    }
   ],
   "source": [
    "class Device():\n",
    "  def __init__(self, brand, model):\n",
    "    self.brand = brand\n",
    "    self.model = model\n",
    "\n",
    "class Phone(Device):\n",
    "  def __init__(self, brand, model, screen_size):\n",
    "    super().__init__(brand, model)\n",
    "    self.screen_size = screen_size\n",
    "\n",
    "  def print_screen_size(self):\n",
    "    print(self.screen_size)\n",
    "\n",
    "class Tablet(Device):\n",
    "  def __init__(self, brand, model, battery_capacity):\n",
    "    super().__init__(brand, model)\n",
    "    self.battery_capacity = battery_capacity\n",
    "\n",
    "  def print_battery_capacity(self):\n",
    "    print(self.battery_capacity)\n",
    "\n",
    "\n",
    "device = Phone(\"Alto\", 800, 24)\n",
    "device.print_screen_size()"
   ]
  },
  {
   "cell_type": "markdown",
   "metadata": {
    "id": "PvNOn4E3FwI_"
   },
   "source": [
    "10. Create a base class called \"BankAccount\" with attributes like \"account_number\" and\n",
    "\"balance.\" Derive two classes, \"SavingsAccount\" and \"CheckingAccount,\" from\n",
    "\"BankAccount.\" Add specific methods like \"calculate_interest\" for the\n",
    "\"SavingsAccount\" class and \"deduct_fees\" for the \"CheckingAccount\" class."
   ]
  },
  {
   "cell_type": "code",
   "execution_count": null,
   "metadata": {
    "id": "S7T8_tWwF2In"
   },
   "outputs": [],
   "source": [
    "class BankAccount():\n",
    "  def __init__(self, account_number, balance):\n",
    "    self.account_number = account_number\n",
    "    self.balance = balance\n",
    "\n",
    "class SavingsAccount(BankAccount):\n",
    "  def __init__(self, account_number, balance):\n",
    "    super().__init__(account_number, balance)\n",
    "\n",
    "\n",
    "\n",
    "class CheckingAccount(BankAccount):\n",
    "  def __init__(self, account_number, balance):\n",
    "    super().__init__(account_number, balance)\n",
    "\n"
   ]
  }
 ],
 "metadata": {
  "colab": {
   "authorship_tag": "ABX9TyNF9wbdcB7dma4HOxtjBg/0",
   "provenance": []
  },
  "kernelspec": {
   "display_name": "Python 3 (ipykernel)",
   "language": "python",
   "name": "python3"
  },
  "language_info": {
   "codemirror_mode": {
    "name": "ipython",
    "version": 3
   },
   "file_extension": ".py",
   "mimetype": "text/x-python",
   "name": "python",
   "nbconvert_exporter": "python",
   "pygments_lexer": "ipython3",
   "version": "3.9.13"
  }
 },
 "nbformat": 4,
 "nbformat_minor": 1
}
