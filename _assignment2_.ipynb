{
 "cells": [
  {
   "cell_type": "code",
   "execution_count": null,
   "metadata": {
    "id": "6vVWK28tIzeP"
   },
   "outputs": [],
   "source": []
  },
  {
   "cell_type": "markdown",
   "metadata": {
    "id": "BDhH1RzoI7AR"
   },
   "source": [
    "1.What are the two values of the Boolean data type? How do you write them?\n",
    "\n",
    "the 2 values of boolean are true and false\n",
    "\n",
    "for true it is True\n",
    "\n",
    "for false it is False"
   ]
  },
  {
   "cell_type": "code",
   "execution_count": null,
   "metadata": {
    "colab": {
     "base_uri": "https://localhost:8080/"
    },
    "executionInfo": {
     "elapsed": 392,
     "status": "ok",
     "timestamp": 1733390827540,
     "user": {
      "displayName": "kannaya sai",
      "userId": "01360627964298848726"
     },
     "user_tz": -330
    },
    "id": "4pADC8_QJCIy",
    "outputId": "94e6ad7d-7ad8-43b7-99ab-461a8a4f92c2"
   },
   "outputs": [
    {
     "name": "stdout",
     "output_type": "stream",
     "text": [
      "True\n",
      "False\n"
     ]
    }
   ],
   "source": [
    "print(True)\n",
    "print(False)"
   ]
  },
  {
   "cell_type": "markdown",
   "metadata": {
    "id": "8WIbmfsDJTDL"
   },
   "source": [
    "2. What are the three different types of Boolean operators?\n",
    "\n",
    "the three types of boolean operators are\n",
    "\n",
    "and - both conditions to be true\n",
    "\n",
    "or - any one condition has to be true\n",
    "\n",
    "not - true os false, false is true"
   ]
  },
  {
   "cell_type": "code",
   "execution_count": null,
   "metadata": {
    "id": "PeviNa4DJk2d"
   },
   "outputs": [],
   "source": []
  },
  {
   "cell_type": "markdown",
   "metadata": {
    "id": "RAjqU5sNJmDY"
   },
   "source": [
    "3. Make a list of each Boolean operator's truth tables (i.e. every possible combination of Boolean values for the operator and what it evaluate ).\n",
    "\n",
    "and\n",
    "\n",
    " T T - gives True\n",
    "\n",
    " T F - Gives False\n",
    "\n",
    " F T - Gives False\n",
    "\n",
    " F F - Gives False\n",
    "\n",
    " or\n",
    "\n",
    " T T - gives True\n",
    "\n",
    " T F - Gives True\n",
    "\n",
    " F T - Gives True\n",
    "\n",
    " F F - Gives False\n",
    "\n",
    "\n",
    " not\n",
    "\n",
    " if T - Gives False\n",
    "\n",
    " if F - Gives True\n",
    "\n"
   ]
  },
  {
   "cell_type": "code",
   "execution_count": null,
   "metadata": {
    "id": "1FGNh9SsKaJd"
   },
   "outputs": [],
   "source": []
  },
  {
   "cell_type": "markdown",
   "metadata": {
    "id": "S-vhRGxyKa0l"
   },
   "source": [
    "4. What are the values of the following expressions?\n",
    "\n",
    "(5 > 4) and (3 == 5)  => False\n",
    "\n",
    "not (5 > 4)   => False\n",
    "\n",
    "(5 > 4) or (3 == 5)  => True\n",
    "\n",
    "not ((5 > 4) or (3 == 5))   => True\n",
    "\n",
    "(True and True) and (True == False)   => False\n",
    "\n",
    "(not False) or (not True)   => False"
   ]
  },
  {
   "cell_type": "code",
   "execution_count": null,
   "metadata": {
    "id": "SA5zbPD9K2yl"
   },
   "outputs": [],
   "source": [
    "\n"
   ]
  },
  {
   "cell_type": "markdown",
   "metadata": {
    "id": "5KkfLCwMK3ka"
   },
   "source": [
    "5. What are the six comparison operators?\n",
    "\n",
    "six comparison operators are\n",
    "\n",
    "== equal to\n",
    "\n",
    "!= not equal to\n",
    "\n",
    "(>) greater than\n",
    "\n",
    "(<) less than\n",
    "\n",
    "(>=) greater than or euqal to\n",
    "\n",
    "(<=) less than or qual to"
   ]
  },
  {
   "cell_type": "code",
   "execution_count": null,
   "metadata": {
    "id": "WhPG8NG0LnS0"
   },
   "outputs": [],
   "source": []
  },
  {
   "cell_type": "markdown",
   "metadata": {
    "id": "ix4P5-u2Ln5H"
   },
   "source": [
    "6. How do you tell the difference between the equal to and assignment operators?Describe a condition and when you would use one.\n",
    "\n",
    "Equal to is (==)\n",
    "\n",
    "where in we tell that a is qual to b if both have same values for their respective variables\n",
    "\n",
    "assign (=)\n",
    "\n",
    "used to assign a value to the variable\n",
    "\n",
    "like\n",
    "\n",
    "a=10 #assigned\n",
    "b=10\n",
    "a==b #equaled\n"
   ]
  },
  {
   "cell_type": "code",
   "execution_count": null,
   "metadata": {
    "colab": {
     "base_uri": "https://localhost:8080/"
    },
    "executionInfo": {
     "elapsed": 417,
     "status": "ok",
     "timestamp": 1733391626088,
     "user": {
      "displayName": "kannaya sai",
      "userId": "01360627964298848726"
     },
     "user_tz": -330
    },
    "id": "SnZHJIFBL8NL",
    "outputId": "5f7961a7-faa3-4de6-8a9c-4308e3391d1a"
   },
   "outputs": [
    {
     "data": {
      "text/plain": [
       "True"
      ]
     },
     "execution_count": 4,
     "metadata": {},
     "output_type": "execute_result"
    }
   ],
   "source": [
    "a=10 #assigned\n",
    "b=10\n",
    "a==b #equaled"
   ]
  },
  {
   "cell_type": "markdown",
   "metadata": {
    "id": "rv-lXek0MTve"
   },
   "source": [
    "7. Identify the three blocks in this code:\n",
    "\n",
    "spam = 0\n",
    "\n",
    "if spam == 10:  #block 1 if\n",
    "\n",
    "print('eggs')\n",
    "\n",
    "if spam > 5: #block 2 if\n",
    "\n",
    "print('bacon')\n",
    "\n",
    "else: #block 3 else\n",
    "\n",
    "print('ham')\n",
    "\n",
    "print('spam')\n",
    "\n",
    "print('spam')\n",
    "\n",
    "the three blocks here are\n",
    "\n",
    "if, if and else"
   ]
  },
  {
   "cell_type": "code",
   "execution_count": null,
   "metadata": {
    "id": "l9zdyUXwMoNb"
   },
   "outputs": [],
   "source": []
  },
  {
   "cell_type": "markdown",
   "metadata": {
    "id": "-FSqNq1TMo6H"
   },
   "source": [
    "8. Write code that prints Hello if 1 is stored in spam, prints Howdy if 2 is stored in spam, and prints Greetings! if anything else is stored in spam.\n",
    "\n",
    "a=int(input())\n",
    "\n",
    "if a==1:\n",
    "\n",
    "  print(\"Hello\")\n",
    "\n",
    "elif a==2:\n",
    "\n",
    "  print(\"Howdy\")\n",
    "\n",
    "else:\n",
    "\n",
    "  print(\"Greetings!\")\n",
    "\n",
    "\n"
   ]
  },
  {
   "cell_type": "code",
   "execution_count": null,
   "metadata": {
    "colab": {
     "base_uri": "https://localhost:8080/"
    },
    "executionInfo": {
     "elapsed": 3306,
     "status": "ok",
     "timestamp": 1733392131420,
     "user": {
      "displayName": "kannaya sai",
      "userId": "01360627964298848726"
     },
     "user_tz": -330
    },
    "id": "skRK7JG5NbD_",
    "outputId": "12e5ea0c-32d8-46fa-a39a-fb9eb88f246a"
   },
   "outputs": [
    {
     "name": "stdout",
     "output_type": "stream",
     "text": [
      "1\n",
      "Hello\n"
     ]
    }
   ],
   "source": [
    "a=int(input())\n",
    "\n",
    "if a==1:\n",
    "  print(\"Hello\")\n",
    "\n",
    "elif a==2:\n",
    "  print(\"Howdy\")\n",
    "\n",
    "else:\n",
    "  print(\"Greetings!\")"
   ]
  },
  {
   "cell_type": "markdown",
   "metadata": {
    "id": "Bgs9Co2NOVYo"
   },
   "source": [
    "9.If your programme is stuck in an endless loop, what keys you’ll press?\n",
    "\n",
    "ctrl+c\n",
    "\n",
    "to exit from loop"
   ]
  },
  {
   "cell_type": "code",
   "execution_count": null,
   "metadata": {
    "id": "SPMI_YWVOjI2"
   },
   "outputs": [],
   "source": []
  },
  {
   "cell_type": "markdown",
   "metadata": {
    "id": "nKofUPQOOiMI"
   },
   "source": [
    "10. How can you tell the difference between break and continue?\n",
    "\n",
    "if we use break, lets say we have to print from 1-10 numbers and we gave break at 6\n",
    "\n",
    "now it dosent print after 6 is acheived as we used break\n",
    "\n",
    "but if we use continue for same 1-10\n",
    "and continue at 6\n",
    "\n",
    "it starts printing from 1 and when 6 comes it skips 6 and then continues printing until 9"
   ]
  },
  {
   "cell_type": "code",
   "execution_count": null,
   "metadata": {
    "id": "E-WfqiUrPBNp"
   },
   "outputs": [],
   "source": []
  },
  {
   "cell_type": "markdown",
   "metadata": {
    "id": "jjTuBk5bPEt6"
   },
   "source": [
    "11. In a for loop, what is the difference between range(10), range(0, 10), and range(0, 10, 1)?\n",
    "\n",
    "in range(10)\n",
    "\n",
    "this by default starts taking the number from 0 and ends at n-1 which is 9\n",
    "\n",
    "in range(0,10)\n",
    "\n",
    "0 acts as starting number and 10 acts as ending number so prints from\n",
    "0-9, if it is range(1,10) prints from 1-9\n",
    "\n",
    "in range(0,10,1)\n",
    "\n",
    "0 acts as starting number and 10 acts as ending number and the 1 in the end acts are step which says how many steps to take between each iteration since it is 1 it prints all numbers from 0-9"
   ]
  },
  {
   "cell_type": "code",
   "execution_count": null,
   "metadata": {
    "id": "C9JUbZPuQJvZ"
   },
   "outputs": [],
   "source": []
  },
  {
   "cell_type": "markdown",
   "metadata": {
    "id": "88OgPW96QTdm"
   },
   "source": [
    "12. Write a short program that prints the numbers 1 to 10 using a for loop. Then write an equivalent program that prints the numbers 1 to 10 using a while loop."
   ]
  },
  {
   "cell_type": "code",
   "execution_count": null,
   "metadata": {
    "colab": {
     "base_uri": "https://localhost:8080/"
    },
    "executionInfo": {
     "elapsed": 3035,
     "status": "ok",
     "timestamp": 1733392776677,
     "user": {
      "displayName": "kannaya sai",
      "userId": "01360627964298848726"
     },
     "user_tz": -330
    },
    "id": "bH1CQhGCQUiS",
    "outputId": "257cd608-1348-4a41-c409-adb021e78013"
   },
   "outputs": [
    {
     "name": "stdout",
     "output_type": "stream",
     "text": [
      "10\n",
      "1\n",
      "2\n",
      "3\n",
      "4\n",
      "5\n",
      "6\n",
      "7\n",
      "8\n",
      "9\n",
      "10\n"
     ]
    }
   ],
   "source": [
    "a=int(input())\n",
    "for i in range(1,a+1):\n",
    "  print(i)"
   ]
  },
  {
   "cell_type": "code",
   "execution_count": null,
   "metadata": {
    "colab": {
     "base_uri": "https://localhost:8080/"
    },
    "executionInfo": {
     "elapsed": 3,
     "status": "ok",
     "timestamp": 1733392897185,
     "user": {
      "displayName": "kannaya sai",
      "userId": "01360627964298848726"
     },
     "user_tz": -330
    },
    "id": "j5FLXR-5QXI4",
    "outputId": "fc53762a-4283-4278-8e67-3356f6ae94ad"
   },
   "outputs": [
    {
     "name": "stdout",
     "output_type": "stream",
     "text": [
      "1\n",
      "2\n",
      "3\n",
      "4\n",
      "5\n",
      "6\n",
      "7\n",
      "8\n",
      "9\n",
      "10\n"
     ]
    }
   ],
   "source": [
    "i = 1\n",
    "while i <= 10:\n",
    "    print(i)\n",
    "    i += 1\n"
   ]
  },
  {
   "cell_type": "markdown",
   "metadata": {
    "id": "lqm5v8EQRPpj"
   },
   "source": [
    "13. If you had a function named bacon() inside a module named spam, how would you call it after importing spam?\n",
    "\n",
    "import spam\n",
    "spam.bacon()\n",
    "`"
   ]
  },
  {
   "cell_type": "code",
   "execution_count": null,
   "metadata": {
    "id": "mAY53BDFQ5V7"
   },
   "outputs": [],
   "source": []
  }
 ],
 "metadata": {
  "colab": {
   "authorship_tag": "ABX9TyM78hbkT1KafZyMyM1wK+NC",
   "provenance": []
  },
  "kernelspec": {
   "display_name": "Python 3 (ipykernel)",
   "language": "python",
   "name": "python3"
  },
  "language_info": {
   "codemirror_mode": {
    "name": "ipython",
    "version": 3
   },
   "file_extension": ".py",
   "mimetype": "text/x-python",
   "name": "python",
   "nbconvert_exporter": "python",
   "pygments_lexer": "ipython3",
   "version": "3.9.13"
  }
 },
 "nbformat": 4,
 "nbformat_minor": 1
}
