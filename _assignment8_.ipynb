{
 "cells": [
  {
   "cell_type": "code",
   "execution_count": null,
   "metadata": {
    "id": "5e1cmsUKH7tv"
   },
   "outputs": [],
   "source": []
  },
  {
   "cell_type": "markdown",
   "metadata": {
    "id": "1NTmfC26IODQ"
   },
   "source": [
    "1. In Python, what is the difference between a built-in function and a user-defined function? Provide an\n",
    "example of each.\n",
    "\n",
    "Built-in are Predefined by Python, like len() or print().\n",
    "\n",
    " Example: len([1, 2, 3]) returns 3.\n",
    "\n",
    "User-defined are Created by the programmer.\n",
    "\n",
    "Example:\n",
    "\n",
    "def greet(name):\n",
    "\n",
    ".\n",
    "\n",
    "2. How can you pass arguments to a function in Python? Explain the difference between positional\n",
    "arguments and keyword arguments.\n",
    "\n",
    "Positional Arguments: Passed when it is orderd.\n",
    "\n",
    "Example: def add(a, b): return a + b; add(2, 3)\n",
    "\n",
    "Keyword Arguments: Passed using the parameter name.\n",
    "\n",
    "Example: add(b=3, a=2) here add is a keyword and since it is given it automatically adds without giving order\n",
    "\n",
    ".\n",
    "\n",
    "3. What is the purpose of the return statement in a function? Can a function have multiple return\n",
    "statements? Explain with an example.\n",
    "\n",
    "Allows a function to provide output of the value. Functions can have multiple return statements to exit under different conditions.\n",
    "\n",
    "Example:\n",
    "\n",
    "def classify(num):\n",
    "\n",
    "    if num > 0: return \"Positive\"\n",
    "    elif num < 0: return \"Negative\"\n",
    "    else: return \"Zero\"\n",
    "\n",
    "\n",
    "4. What are lambda functions in Python? How are they different from regular functions? Provide an\n",
    "example where a lambda function can be useful.\n",
    "\n",
    "lambda is baiscally used for concising the expressions, its a single expression value\n",
    "\n",
    "square = lambda x: x ** 2\n",
    "\n",
    "print(square(5)) #o/p 25\n",
    "\n",
    ".\n",
    "\n",
    "\n",
    "5. How does the concept of \"scope\" apply to functions in Python? Explain the difference between local\n",
    "scope and global scope.\n",
    "\n",
    "Local Scope is Variables inside a function. Accessible only within that function.\n",
    "\n",
    "Global Scope is Variables outside functions. Accessible throughout the program unless shadowed locally.\n",
    "\n",
    ".\n",
    "\n",
    "6. How can you use the \"return\" statement in a Python function to return multiple values?\n",
    "\n",
    "def stats(a, b):\n",
    "\n",
    "  return a + b, a - b\n",
    "\n",
    "print(stats(5, 3))  # Output: (8, 2)\n",
    "\n",
    ".\n",
    "\n",
    "\n",
    "7. What is the difference between the \"pass by value\" and \"pass by reference\" concepts when it\n",
    "comes to function arguments in Python?\n",
    "\n",
    "Pass by Value: Copies the value\n",
    "\n",
    "Pass by Reference: Passes a reference to the object. Mutable objects like lists can be modified inside the function."
   ]
  },
  {
   "cell_type": "code",
   "execution_count": null,
   "metadata": {
    "id": "rMyzrF2QLbpi"
   },
   "outputs": [],
   "source": []
  },
  {
   "cell_type": "markdown",
   "metadata": {
    "id": "fPMZUWooLcGa"
   },
   "source": [
    "8. Create a function that can intake integer or decimal value and do following operations:\n",
    "a. Logarithmic function (log x)\n",
    "b. Exponential function (exp(x))\n",
    "c. Power function with base 2 (2\n",
    "x\n",
    ")\n",
    "d. Square root\n"
   ]
  },
  {
   "cell_type": "code",
   "execution_count": null,
   "metadata": {
    "colab": {
     "base_uri": "https://localhost:8080/"
    },
    "executionInfo": {
     "elapsed": 3079,
     "status": "ok",
     "timestamp": 1733509697122,
     "user": {
      "displayName": "kannaya sai",
      "userId": "01360627964298848726"
     },
     "user_tz": -330
    },
    "id": "kIZdAitfLdMn",
    "outputId": "f9b28315-5e9b-4358-f21e-6c6a45bfa168"
   },
   "outputs": [
    {
     "name": "stdout",
     "output_type": "stream",
     "text": [
      "value what: 45\n"
     ]
    },
    {
     "data": {
      "text/plain": [
       "(3.8066624897703196,\n",
       " 3.4934271057485095e+19,\n",
       " 35184372088832.0,\n",
       " 6.708203932499369)"
      ]
     },
     "execution_count": 11,
     "metadata": {},
     "output_type": "execute_result"
    }
   ],
   "source": [
    "import math\n",
    "\n",
    "def perform_operation(value):\n",
    "  log_result = math.log(value)\n",
    "  exp_result = math.exp(value)\n",
    "  power_result = math.pow(2, value)\n",
    "  sqrt_result = math.sqrt(value)\n",
    "\n",
    "  return log_result, exp_result, power_result, sqrt_result\n",
    "\n",
    "value = float(input(\"value what: \"))\n",
    "log_result, exp_result, power_result, sqrt_result = perform_operation(value)\n",
    "perform_operation(value)"
   ]
  },
  {
   "cell_type": "markdown",
   "metadata": {
    "id": "T4QMq3ALOwHj"
   },
   "source": [
    "9. Create a function that takes a full name as an argument and returns first name and last name."
   ]
  },
  {
   "cell_type": "code",
   "execution_count": 1,
   "metadata": {
    "colab": {
     "base_uri": "https://localhost:8080/"
    },
    "executionInfo": {
     "elapsed": 6776,
     "status": "ok",
     "timestamp": 1733509872311,
     "user": {
      "displayName": "kannaya sai",
      "userId": "01360627964298848726"
     },
     "user_tz": -330
    },
    "id": "wfjIbP4yNFWb",
    "outputId": "657ed786-3c06-4e04-df08-740eafd2c64b"
   },
   "outputs": [
    {
     "name": "stdout",
     "output_type": "stream",
     "text": [
      "Enter a full name: vaishnavi siddamshetty\n",
      "First Name: vaishnavi\n",
      "Last Name: siddamshetty\n"
     ]
    }
   ],
   "source": [
    "def get_first_last_name(full_name):\n",
    "    names = full_name.split()\n",
    "    first_name = names[0]\n",
    "    last_name = names[-1]\n",
    "    return first_name, last_name\n",
    "\n",
    "full_name = input(\"Enter a full name: \")\n",
    "first_name, last_name = get_first_last_name(full_name)\n",
    "print(\"First Name:\", first_name)\n",
    "print(\"Last Name:\", last_name)"
   ]
  },
  {
   "cell_type": "code",
   "execution_count": null,
   "metadata": {
    "id": "X9is7Yj8PNZy"
   },
   "outputs": [],
   "source": []
  }
 ],
 "metadata": {
  "colab": {
   "authorship_tag": "ABX9TyPRR9QDnnh+qk7ugIJ5TfT3",
   "provenance": []
  },
  "kernelspec": {
   "display_name": "Python 3 (ipykernel)",
   "language": "python",
   "name": "python3"
  },
  "language_info": {
   "codemirror_mode": {
    "name": "ipython",
    "version": 3
   },
   "file_extension": ".py",
   "mimetype": "text/x-python",
   "name": "python",
   "nbconvert_exporter": "python",
   "pygments_lexer": "ipython3",
   "version": "3.9.13"
  }
 },
 "nbformat": 4,
 "nbformat_minor": 1
}
