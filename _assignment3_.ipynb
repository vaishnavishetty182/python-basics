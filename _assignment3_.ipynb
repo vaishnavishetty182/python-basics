{
 "cells": [
  {
   "cell_type": "code",
   "execution_count": null,
   "metadata": {
    "id": "L13OI6N1_tp_"
   },
   "outputs": [],
   "source": []
  },
  {
   "cell_type": "markdown",
   "metadata": {
    "id": "roKlCqbq_xJy"
   },
   "source": [
    "1. Why are functions advantageous to have in your programs?\n",
    "\n",
    "it can be called multiple times\n",
    "\n",
    "increases readability\n",
    "\n",
    "it is re usable\n",
    "\n",
    "it is goof for encapsulation"
   ]
  },
  {
   "cell_type": "code",
   "execution_count": null,
   "metadata": {
    "id": "UrTQnQ-YAHv2"
   },
   "outputs": [],
   "source": []
  },
  {
   "cell_type": "markdown",
   "metadata": {
    "id": "tVW0Mc6HAJ6f"
   },
   "source": [
    "2. When does the code in a function run: when it's specified or when it's called?\n",
    "\n",
    "when it is called the function will run"
   ]
  },
  {
   "cell_type": "code",
   "execution_count": null,
   "metadata": {
    "executionInfo": {
     "elapsed": 1282,
     "status": "ok",
     "timestamp": 1733422135673,
     "user": {
      "displayName": "kannaya sai",
      "userId": "01360627964298848726"
     },
     "user_tz": -330
    },
    "id": "5vvXJjV_Amrl"
   },
   "outputs": [],
   "source": []
  },
  {
   "cell_type": "markdown",
   "metadata": {
    "id": "dYY11g4hAnU3"
   },
   "source": [
    "3. What statement creates a function?\n",
    "\n",
    "def statement creates a function\n",
    "\n",
    "\n",
    "def apple():\n",
    "\n",
    "  a=1\n",
    "\n",
    "  b=1\n",
    "\n",
    "apple()"
   ]
  },
  {
   "cell_type": "code",
   "execution_count": 4,
   "metadata": {
    "colab": {
     "base_uri": "https://localhost:8080/"
    },
    "executionInfo": {
     "elapsed": 1652,
     "status": "ok",
     "timestamp": 1733422355133,
     "user": {
      "displayName": "kannaya sai",
      "userId": "01360627964298848726"
     },
     "user_tz": -330
    },
    "id": "sEek4GRbBSnP",
    "outputId": "439da5f2-c48f-4c28-cf25-8181a24b9eaf"
   },
   "outputs": [
    {
     "name": "stdout",
     "output_type": "stream",
     "text": [
      "3\n"
     ]
    }
   ],
   "source": [
    "def apple():\n",
    "  a=1\n",
    "  b=2\n",
    "  print(a+b)\n",
    "\n",
    "apple()"
   ]
  },
  {
   "cell_type": "markdown",
   "metadata": {
    "id": "5h7H3wkYBcJp"
   },
   "source": [
    "4. What is the difference between a function and a function call?\n",
    "\n",
    "in a function we define what it consists of what actions it should be doing and everything this basically has logic like what to do\n",
    "\n",
    "function call is we call the function which makes the function perform the functions tasks"
   ]
  },
  {
   "cell_type": "code",
   "execution_count": null,
   "metadata": {
    "id": "fFSALrBhBT1w"
   },
   "outputs": [],
   "source": []
  },
  {
   "cell_type": "markdown",
   "metadata": {
    "id": "YGJ1SbcTCyMl"
   },
   "source": [
    "5. How many global scopes are there in a Python program? How many local scopes?\n",
    "\n",
    "there is only 1 global scope per program\n",
    "\n",
    "there can be local scopes based on functions created"
   ]
  },
  {
   "cell_type": "code",
   "execution_count": null,
   "metadata": {
    "id": "e386UUB8Cyz5"
   },
   "outputs": [],
   "source": []
  },
  {
   "cell_type": "markdown",
   "metadata": {
    "id": "yXBe66GqDHdS"
   },
   "source": [
    "6. What happens to variables in a local scope when the function call returns?\n",
    "\n",
    "when the fuction calls returns the local scope created for the fucntion will destroy and all variables in it are discarded"
   ]
  },
  {
   "cell_type": "code",
   "execution_count": null,
   "metadata": {
    "id": "jsP6KC9xDH7a"
   },
   "outputs": [],
   "source": []
  },
  {
   "cell_type": "markdown",
   "metadata": {
    "id": "JtSc5Lq7Gk8C"
   },
   "source": [
    "7. What is the concept of a return value? Is it possible to have a return value in an expression?\n",
    "\n",
    "its basically the output that a function sends back after completion of execution\n",
    "\n",
    "and it is possible to have return value in an expression"
   ]
  },
  {
   "cell_type": "code",
   "execution_count": 6,
   "metadata": {
    "colab": {
     "base_uri": "https://localhost:8080/"
    },
    "executionInfo": {
     "elapsed": 382,
     "status": "ok",
     "timestamp": 1733425006501,
     "user": {
      "displayName": "kannaya sai",
      "userId": "01360627964298848726"
     },
     "user_tz": -330
    },
    "id": "jEULk7ToLJO-",
    "outputId": "55179d84-3b29-44fd-b301-fbdda8a35f4b"
   },
   "outputs": [
    {
     "name": "stdout",
     "output_type": "stream",
     "text": [
      "35\n"
     ]
    }
   ],
   "source": [
    "def square(x):\n",
    "  return x*x\n",
    "\n",
    "result = square(5)+10\n",
    "print(result)"
   ]
  },
  {
   "cell_type": "markdown",
   "metadata": {
    "id": "kv3MN0-kLqri"
   },
   "source": [
    "8. If a function does not have a return statement, what is the return value of a call to that function?\n",
    "\n",
    "it prints None"
   ]
  },
  {
   "cell_type": "code",
   "execution_count": 8,
   "metadata": {
    "colab": {
     "base_uri": "https://localhost:8080/"
    },
    "executionInfo": {
     "elapsed": 464,
     "status": "ok",
     "timestamp": 1733425345674,
     "user": {
      "displayName": "kannaya sai",
      "userId": "01360627964298848726"
     },
     "user_tz": -330
    },
    "id": "i6I5EU43LNTb",
    "outputId": "a42f67ef-dfb1-4de6-b0f6-62f38747ba8d"
   },
   "outputs": [
    {
     "name": "stdout",
     "output_type": "stream",
     "text": [
      "None\n"
     ]
    }
   ],
   "source": [
    "def greet():\n",
    "    print(\"Hello!\")\n",
    "\n",
    "# result = greet()\n",
    "print(result)"
   ]
  },
  {
   "cell_type": "markdown",
   "metadata": {
    "id": "t0vtDG1nNAcs"
   },
   "source": [
    "9. How do you make a function variable refer to the global variable?\n",
    "\n",
    "global variable_name"
   ]
  },
  {
   "cell_type": "code",
   "execution_count": 10,
   "metadata": {
    "colab": {
     "base_uri": "https://localhost:8080/"
    },
    "executionInfo": {
     "elapsed": 357,
     "status": "ok",
     "timestamp": 1733425604180,
     "user": {
      "displayName": "kannaya sai",
      "userId": "01360627964298848726"
     },
     "user_tz": -330
    },
    "id": "ICIYV0E1M7Ax",
    "outputId": "19303b5d-0f13-40ae-bb9a-488955311708"
   },
   "outputs": [
    {
     "name": "stdout",
     "output_type": "stream",
     "text": [
      "20\n",
      "20\n"
     ]
    }
   ],
   "source": [
    "x = 10\n",
    "\n",
    "def complex():\n",
    "  global x\n",
    "  x = 20\n",
    "  print(x)\n",
    "\n",
    "complex()\n",
    "print(x)"
   ]
  },
  {
   "cell_type": "markdown",
   "metadata": {
    "id": "wgIFy_Y5N7oW"
   },
   "source": [
    "10. What is the data type of None?\n",
    "\n",
    "Nonetype"
   ]
  },
  {
   "cell_type": "code",
   "execution_count": null,
   "metadata": {
    "id": "0QKGfW68N18s"
   },
   "outputs": [],
   "source": []
  },
  {
   "cell_type": "markdown",
   "metadata": {
    "id": "CEYJqdKwOtqY"
   },
   "source": [
    "11. What does the sentence import areallyourpetsnamederic do?\n",
    "\n",
    "it returns NoModuleFound"
   ]
  },
  {
   "cell_type": "code",
   "execution_count": null,
   "metadata": {
    "id": "htE3hu1UOuUQ"
   },
   "outputs": [],
   "source": []
  },
  {
   "cell_type": "markdown",
   "metadata": {
    "id": "KXkGUrEPdfqN"
   },
   "source": [
    "12. If you had a bacon() feature in a spam module, what would you call it after importing spam?\n",
    "\n",
    "import spam\n",
    "spam.bacon()"
   ]
  },
  {
   "cell_type": "code",
   "execution_count": null,
   "metadata": {
    "id": "2Of2l6OJdgFe"
   },
   "outputs": [],
   "source": []
  },
  {
   "cell_type": "markdown",
   "metadata": {
    "id": "xkS1XRI-d1UF"
   },
   "source": [
    "13. What can you do to save a programme from crashing if it encounters an error?\n",
    "\n",
    "we can use try-except block\n",
    "\n",
    "try is to parse through the code and if there is any exception or error it will be sent to except block to resolve it"
   ]
  },
  {
   "cell_type": "code",
   "execution_count": null,
   "metadata": {
    "id": "YRZPmjxkd10J"
   },
   "outputs": [],
   "source": []
  },
  {
   "cell_type": "markdown",
   "metadata": {
    "id": "Y7PSv8oCejGo"
   },
   "source": [
    "14. What is the purpose of the try clause? What is the purpose of the except clause?\n",
    "\n",
    "try is basically used to check the code which can raise an exceptipon\n",
    "\n",
    "except is used to handle the raised exception"
   ]
  }
 ],
 "metadata": {
  "colab": {
   "authorship_tag": "ABX9TyMTxfYzz5RuP+08Bts0cb7M",
   "provenance": []
  },
  "kernelspec": {
   "display_name": "Python 3 (ipykernel)",
   "language": "python",
   "name": "python3"
  },
  "language_info": {
   "codemirror_mode": {
    "name": "ipython",
    "version": 3
   },
   "file_extension": ".py",
   "mimetype": "text/x-python",
   "name": "python",
   "nbconvert_exporter": "python",
   "pygments_lexer": "ipython3",
   "version": "3.9.13"
  }
 },
 "nbformat": 4,
 "nbformat_minor": 1
}
