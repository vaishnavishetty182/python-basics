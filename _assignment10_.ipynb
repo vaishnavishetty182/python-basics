{
 "cells": [
  {
   "cell_type": "code",
   "execution_count": null,
   "metadata": {
    "executionInfo": {
     "elapsed": 644,
     "status": "ok",
     "timestamp": 1733512597312,
     "user": {
      "displayName": "kannaya sai",
      "userId": "01360627964298848726"
     },
     "user_tz": -330
    },
    "id": "o8rkaqRWZp0A"
   },
   "outputs": [],
   "source": []
  },
  {
   "cell_type": "markdown",
   "metadata": {
    "id": "Pq5ot_L9aCHy"
   },
   "source": [
    "1. What is the role of try and exception block?\n",
    "\n",
    "The try block is used to wrap code that might raise an exception, and the except block is used to handle those exceptions gracefully, preventing the program from crashing.\n",
    "\n",
    ".\n",
    "\n",
    "2. What is the syntax for a basic try-except block?\n",
    "\n",
    "try:\n",
    "    # code that may raise an exception\n",
    "except ExceptionType:\n",
    "    # code to handle the exception\n",
    ".\n",
    "\n",
    "3. What happens if an exception occurs inside a try block and there is no matching\n",
    "except block?\n",
    "\n",
    "If no matching except block is found, the exception is propagated to the calling code, and the program may terminate with an error.\n",
    "\n",
    ".\n",
    "\n",
    "\n",
    "4. What is the difference between using a bare except block and specifying a specific\n",
    "exception type?\n",
    "\n",
    "A bare except catches all exceptions, which can be risky as it may hide bugs.\n",
    "\n",
    "Specific exceptions catch only specific types of exceptions, making error handling more precise."
   ]
  },
  {
   "cell_type": "code",
   "execution_count": null,
   "metadata": {
    "id": "iOb_dcYGak20"
   },
   "outputs": [],
   "source": []
  },
  {
   "cell_type": "markdown",
   "metadata": {
    "id": "VBz5pnqYalL_"
   },
   "source": [
    "5. Can you have nested try-except blocks in Python? If yes, then give an example.\n",
    "\n",
    "yes we can"
   ]
  },
  {
   "cell_type": "code",
   "execution_count": 1,
   "metadata": {
    "colab": {
     "base_uri": "https://localhost:8080/"
    },
    "executionInfo": {
     "elapsed": 543,
     "status": "ok",
     "timestamp": 1733512866747,
     "user": {
      "displayName": "kannaya sai",
      "userId": "01360627964298848726"
     },
     "user_tz": -330
    },
    "id": "XNv_5i14amzQ",
    "outputId": "25696185-c7a1-4005-8952-0c25add31b71"
   },
   "outputs": [
    {
     "name": "stdout",
     "output_type": "stream",
     "text": [
      "Caught division by zero\n"
     ]
    }
   ],
   "source": [
    "try:\n",
    "    try:\n",
    "        a = 10 / 0\n",
    "    except ZeroDivisionError:\n",
    "        print(\"Caught division by zero\")\n",
    "except Exception as e:\n",
    "    print(\"Caught outer exception:\", e)"
   ]
  },
  {
   "cell_type": "markdown",
   "metadata": {
    "id": "vGIoi7gCa3Ql"
   },
   "source": [
    "6. Can we use multiple exception blocks, if yes then give an example.\n",
    "\n",
    "yes"
   ]
  },
  {
   "cell_type": "code",
   "execution_count": 3,
   "metadata": {
    "colab": {
     "base_uri": "https://localhost:8080/"
    },
    "executionInfo": {
     "elapsed": 4790,
     "status": "ok",
     "timestamp": 1733512925981,
     "user": {
      "displayName": "kannaya sai",
      "userId": "01360627964298848726"
     },
     "user_tz": -330
    },
    "id": "5pfNhzwtaybD",
    "outputId": "0f31b4eb-e82d-4ed8-96a1-dcfaac212f6b"
   },
   "outputs": [
    {
     "name": "stdout",
     "output_type": "stream",
     "text": [
      "Enter a number: b892gd\n",
      "Invalid input! Not a number.\n"
     ]
    }
   ],
   "source": [
    "try:\n",
    "    value = int(input(\"Enter a number: \"))\n",
    "except ValueError:\n",
    "    print(\"Invalid input! Not a number.\")\n",
    "except ZeroDivisionError:\n",
    "    print(\"Cannot divide by zero.\")"
   ]
  },
  {
   "cell_type": "markdown",
   "metadata": {
    "id": "U3mBATHPbC_5"
   },
   "source": [
    "7. Write the reason due to which following errors are raised:\n",
    "\n",
    "a. EOFError\n",
    "b. FloatingPointError\n",
    "c. IndexError\n",
    "d. MemoryError\n",
    "e. OverflowError\n",
    "f. TabError\n",
    "g. ValueError\n",
    "\n",
    "EOFError: Raised when the input function hits the end of a file or no more data can be read\n",
    "\n",
    "FloatingPointError: Raised when a floating-point operation fails like division by zero\n",
    "\n",
    "IndexError: Raised when trying to access an index in a list that does not exist\n",
    "\n",
    "MemoryError: Raised when the program runs out of memory\n",
    "\n",
    "OverflowError: Raised when a numerical operation exceeds the limits of a data type\n",
    "\n",
    "TabError: Raised when indentation is inconsistent, particularly using tabs and spaces\n",
    "\n",
    "ValueError: Raised when a function receives an argument of the correct type but inappropriate value"
   ]
  },
  {
   "cell_type": "markdown",
   "metadata": {
    "id": "xSGklZiUbgsN"
   },
   "source": [
    "8. Write code for the following given scenario and add try-exception block to it.\n",
    "a. Program to divide two numbers\n",
    "b. Program to convert a string to an integer\n",
    "c. Program to access an element in a list\n",
    "d. Program to handle a specific exception\n",
    "e. Program to handle any exception"
   ]
  },
  {
   "cell_type": "code",
   "execution_count": 4,
   "metadata": {
    "colab": {
     "base_uri": "https://localhost:8080/"
    },
    "executionInfo": {
     "elapsed": 6312,
     "status": "ok",
     "timestamp": 1733513092757,
     "user": {
      "displayName": "kannaya sai",
      "userId": "01360627964298848726"
     },
     "user_tz": -330
    },
    "id": "O6_FpVKja7cY",
    "outputId": "40513dce-430f-4485-e0ee-ed532e7d8861"
   },
   "outputs": [
    {
     "name": "stdout",
     "output_type": "stream",
     "text": [
      "Enter numerator: h8g89\n",
      "Invalid input, please enter numbers.\n"
     ]
    }
   ],
   "source": [
    "#a Program to divide two numbers\n",
    "\n",
    "try:\n",
    "    a = int(input(\"Enter numerator: \"))\n",
    "    b = int(input(\"Enter denominator: \"))\n",
    "    result = a / b\n",
    "except ZeroDivisionError:\n",
    "    print(\"Cannot divide by zero.\")\n",
    "except ValueError:\n",
    "    print(\"Invalid input, please enter numbers.\")"
   ]
  },
  {
   "cell_type": "code",
   "execution_count": 7,
   "metadata": {
    "colab": {
     "base_uri": "https://localhost:8080/"
    },
    "executionInfo": {
     "elapsed": 6039,
     "status": "ok",
     "timestamp": 1733513149259,
     "user": {
      "displayName": "kannaya sai",
      "userId": "01360627964298848726"
     },
     "user_tz": -330
    },
    "id": "KtvvEd4sboMZ",
    "outputId": "f7b09c23-1ab0-47d0-a118-239f0250983e"
   },
   "outputs": [
    {
     "name": "stdout",
     "output_type": "stream",
     "text": [
      "Enter a string number: one\n",
      "Invalid string. Could not convert to integer.\n"
     ]
    }
   ],
   "source": [
    "#b  Program to convert a string to an intege\n",
    "\n",
    "try:\n",
    "    value = int(input(\"Enter a string number: \"))\n",
    "except ValueError:\n",
    "    print(\"Invalid string. Could not convert to integer.\")\n"
   ]
  },
  {
   "cell_type": "code",
   "execution_count": 8,
   "metadata": {
    "colab": {
     "base_uri": "https://localhost:8080/"
    },
    "executionInfo": {
     "elapsed": 5832,
     "status": "ok",
     "timestamp": 1733513170335,
     "user": {
      "displayName": "kannaya sai",
      "userId": "01360627964298848726"
     },
     "user_tz": -330
    },
    "id": "svtdyI2Kbuve",
    "outputId": "f58b7600-a3b3-406a-9054-9a3b337d7c24"
   },
   "outputs": [
    {
     "name": "stdout",
     "output_type": "stream",
     "text": [
      "Enter index: 1\n",
      "2\n"
     ]
    }
   ],
   "source": [
    "#c Program to access an element in a list\n",
    "\n",
    "my_list = [1, 2, 3]\n",
    "try:\n",
    "    index = int(input(\"Enter index: \"))\n",
    "    print(my_list[index])\n",
    "except IndexError:\n",
    "    print(\"Index out of range.\")\n",
    "except ValueError:\n",
    "    print(\"Invalid input, please enter an integer index.\")\n"
   ]
  },
  {
   "cell_type": "code",
   "execution_count": 9,
   "metadata": {
    "colab": {
     "base_uri": "https://localhost:8080/"
    },
    "executionInfo": {
     "elapsed": 6604,
     "status": "ok",
     "timestamp": 1733513194690,
     "user": {
      "displayName": "kannaya sai",
      "userId": "01360627964298848726"
     },
     "user_tz": -330
    },
    "id": "i-SfFaGUb7QA",
    "outputId": "f21d052a-2278-4ebb-a24c-ab189d842133"
   },
   "outputs": [
    {
     "name": "stdout",
     "output_type": "stream",
     "text": [
      "Enter a number: 3\n"
     ]
    }
   ],
   "source": [
    "#d Program to handle a specific exception\n",
    "\n",
    "try:\n",
    "    value = int(input(\"Enter a number: \"))\n",
    "except ValueError as e:\n",
    "    print(f\"Specific exception caught: {e}\")\n"
   ]
  },
  {
   "cell_type": "code",
   "execution_count": 10,
   "metadata": {
    "colab": {
     "base_uri": "https://localhost:8080/"
    },
    "executionInfo": {
     "elapsed": 557,
     "status": "ok",
     "timestamp": 1733513205426,
     "user": {
      "displayName": "kannaya sai",
      "userId": "01360627964298848726"
     },
     "user_tz": -330
    },
    "id": "naYxQRAicBAn",
    "outputId": "c928ae64-7adf-4d53-e178-5a880fe05550"
   },
   "outputs": [
    {
     "name": "stdout",
     "output_type": "stream",
     "text": [
      "An error occurred: division by zero\n"
     ]
    }
   ],
   "source": [
    "#d Program to handle any exception\n",
    "\n",
    "try:\n",
    "    a = 10 / 0\n",
    "except Exception as e:\n",
    "    print(f\"An error occurred: {e}\")\n"
   ]
  },
  {
   "cell_type": "code",
   "execution_count": null,
   "metadata": {
    "id": "7_Y9hjD2cFGw"
   },
   "outputs": [],
   "source": []
  }
 ],
 "metadata": {
  "colab": {
   "authorship_tag": "ABX9TyPdEDwyuoaYVSb14Axi2BO3",
   "provenance": []
  },
  "kernelspec": {
   "display_name": "Python 3 (ipykernel)",
   "language": "python",
   "name": "python3"
  },
  "language_info": {
   "codemirror_mode": {
    "name": "ipython",
    "version": 3
   },
   "file_extension": ".py",
   "mimetype": "text/x-python",
   "name": "python",
   "nbconvert_exporter": "python",
   "pygments_lexer": "ipython3",
   "version": "3.9.13"
  }
 },
 "nbformat": 4,
 "nbformat_minor": 1
}
