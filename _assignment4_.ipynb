{
 "cells": [
  {
   "cell_type": "code",
   "execution_count": null,
   "metadata": {
    "id": "qv1sfn-XfffR"
   },
   "outputs": [],
   "source": []
  },
  {
   "cell_type": "markdown",
   "metadata": {
    "id": "DQj3CI-mfqck"
   },
   "source": [
    "1. What exactly is []?\n",
    "\n",
    "that is basically an empty list representation"
   ]
  },
  {
   "cell_type": "code",
   "execution_count": 2,
   "metadata": {
    "colab": {
     "base_uri": "https://localhost:8080/"
    },
    "executionInfo": {
     "elapsed": 557,
     "status": "ok",
     "timestamp": 1733430338828,
     "user": {
      "displayName": "kannaya sai",
      "userId": "01360627964298848726"
     },
     "user_tz": -330
    },
    "id": "ovhXXgPKfz4P",
    "outputId": "2f6fc805-298b-4856-f0ec-3eaa0c020176"
   },
   "outputs": [
    {
     "data": {
      "text/plain": [
       "[]"
      ]
     },
     "execution_count": 2,
     "metadata": {},
     "output_type": "execute_result"
    }
   ],
   "source": [
    "a=[]\n",
    "a"
   ]
  },
  {
   "cell_type": "markdown",
   "metadata": {
    "id": "-qP8ebSgf0MT"
   },
   "source": [
    "2. In a list of values stored in a variable called spam, how would you assign the value 'hello' as the third value? (Assume [2, 4, 6, 8, 10] are in spam.)\n",
    "\n",
    "spam = [2, 4, 6, 8, 10]\n",
    "\n",
    "spam[2] = \"hello\"\n",
    "\n",
    "spam"
   ]
  },
  {
   "cell_type": "code",
   "execution_count": 4,
   "metadata": {
    "colab": {
     "base_uri": "https://localhost:8080/"
    },
    "executionInfo": {
     "elapsed": 726,
     "status": "ok",
     "timestamp": 1733430658632,
     "user": {
      "displayName": "kannaya sai",
      "userId": "01360627964298848726"
     },
     "user_tz": -330
    },
    "id": "d1Jb8Co-f_xI",
    "outputId": "5840d0e2-7637-4548-c69b-322d236b0626"
   },
   "outputs": [
    {
     "data": {
      "text/plain": [
       "['a', 'b', 'hello', 'd']"
      ]
     },
     "execution_count": 4,
     "metadata": {},
     "output_type": "execute_result"
    }
   ],
   "source": [
    "spam = ['a','b','c','d']\n",
    "\n",
    "spam[2] = \"hello\"\n",
    "\n",
    "spam"
   ]
  },
  {
   "cell_type": "markdown",
   "metadata": {
    "id": "9GEFCQoQgATR"
   },
   "source": [
    "3. What is the value of spam[int(int('3' * 2) / 11)]?\n",
    "\n",
    "value of this would be spam[3]\n",
    "'3'*2 is '33' then int(33) is now 33 so 33/11 so 3\n",
    "\n",
    "spam[3] based on previous question would be 'd'"
   ]
  },
  {
   "cell_type": "code",
   "execution_count": 5,
   "metadata": {
    "colab": {
     "base_uri": "https://localhost:8080/",
     "height": 35
    },
    "executionInfo": {
     "elapsed": 585,
     "status": "ok",
     "timestamp": 1733430713890,
     "user": {
      "displayName": "kannaya sai",
      "userId": "01360627964298848726"
     },
     "user_tz": -330
    },
    "id": "7oSL31H9gA4C",
    "outputId": "7bfa7249-17ab-48c1-a1f8-ee71c0b51fd6"
   },
   "outputs": [
    {
     "data": {
      "application/vnd.google.colaboratory.intrinsic+json": {
       "type": "string"
      },
      "text/plain": [
       "'d'"
      ]
     },
     "execution_count": 5,
     "metadata": {},
     "output_type": "execute_result"
    }
   ],
   "source": [
    "spam[int(int('3' * 2) / 11)]"
   ]
  },
  {
   "cell_type": "markdown",
   "metadata": {
    "id": "3whfHQ-DgBRv"
   },
   "source": [
    "4. What is the value of spam[-1]?\n",
    "\n",
    "value of spam[-1] is 'd'\n",
    "\n",
    "5. What is the value of spam[:2]?\n",
    "\n",
    "value of spam[:2] is ['a','b']"
   ]
  },
  {
   "cell_type": "code",
   "execution_count": null,
   "metadata": {
    "id": "XQfpLNBUijtz"
   },
   "outputs": [],
   "source": []
  },
  {
   "cell_type": "markdown",
   "metadata": {
    "id": "z9eUOkp5ikBh"
   },
   "source": [
    "Let's pretend bacon has the list [3.14, 'cat,' 11, 'cat,' True] for the next three questions.\n",
    "\n",
    "6. What is the value of bacon.index('cat')?\n",
    "\n",
    "index value of bacon.index('cat') is 1\n",
    "\n",
    "\n",
    "7. How does bacon.append(99) change the look of the list value in bacon?\n",
    "\n",
    "it looks like [3.14, 'cat', 11, 'cat', True, 99]\n",
    "\n",
    "8. How does bacon.remove('cat') change the look of the list in bacon?\n",
    "\n",
    "it looks like [3.14, 11, True]"
   ]
  },
  {
   "cell_type": "code",
   "execution_count": null,
   "metadata": {
    "id": "QQxSSa7vjN5o"
   },
   "outputs": [],
   "source": []
  },
  {
   "cell_type": "markdown",
   "metadata": {
    "id": "GUr2G_t9jOSF"
   },
   "source": [
    "9. What are the list concatenation and list replication operators?\n",
    "\n",
    "for list concatination we use (+) to combine 2 or more lists\n",
    "\n",
    "for list replication we use (*) to replicate into 2 or more"
   ]
  },
  {
   "cell_type": "code",
   "execution_count": null,
   "metadata": {
    "id": "DaKloU9yjluQ"
   },
   "outputs": [],
   "source": []
  },
  {
   "cell_type": "markdown",
   "metadata": {
    "id": "az8dIIkUjmAO"
   },
   "source": [
    "10. What is difference between the list methods append() and insert()?\n",
    "\n",
    "append() this adds the element into list but only at the end\n",
    "\n",
    "a.append(4)\n",
    "\n",
    "insert() this can be added into the list at a specified given position\n",
    "\n",
    "b.append(1, 'a') #insert a at 1 index"
   ]
  },
  {
   "cell_type": "code",
   "execution_count": null,
   "metadata": {
    "id": "m_daiVoqkIJF"
   },
   "outputs": [],
   "source": []
  },
  {
   "cell_type": "markdown",
   "metadata": {
    "id": "33MruInXkIpD"
   },
   "source": [
    "11. What are the two methods for removing items from a list?\n",
    "\n",
    "remove() basically removes the first occurence of a specific value\n",
    "\n",
    "pop() this basically removes the item of specifed index"
   ]
  },
  {
   "cell_type": "code",
   "execution_count": null,
   "metadata": {
    "id": "H7tGUcbrkn_3"
   },
   "outputs": [],
   "source": []
  },
  {
   "cell_type": "markdown",
   "metadata": {
    "id": "R0NUVcvFkoWP"
   },
   "source": [
    "12. Describe how list values and string values are identical.\n",
    "\n",
    "both of them support indexing, slicing, concatinating and iterating"
   ]
  },
  {
   "cell_type": "code",
   "execution_count": null,
   "metadata": {
    "id": "rMo_1UZelEyV"
   },
   "outputs": [],
   "source": []
  },
  {
   "cell_type": "markdown",
   "metadata": {
    "id": "28OYXSoXlFG2"
   },
   "source": [
    "13. What's the difference between tuples and lists\n",
    "\n",
    "tuples are described within ( ) and they are immutable\n",
    "\n",
    "lists are described within [ ] and they are mutable"
   ]
  },
  {
   "cell_type": "code",
   "execution_count": null,
   "metadata": {
    "id": "lomGKtewlWD7"
   },
   "outputs": [],
   "source": []
  },
  {
   "cell_type": "markdown",
   "metadata": {
    "id": "EFk_ZNgwlWbf"
   },
   "source": [
    "14. How do you type a tuple value that only contains the integer 42?\n",
    "\n",
    "if it has to contain only the integer 42 then\n",
    "\n",
    "hi = (42, ) #coma is needed to create a tuple with single value\n",
    "\n",
    "#if coma is not there it becomes a integer but not tuple"
   ]
  },
  {
   "cell_type": "code",
   "execution_count": null,
   "metadata": {
    "id": "PcgptZpWl7hP"
   },
   "outputs": [],
   "source": []
  },
  {
   "cell_type": "markdown",
   "metadata": {
    "id": "d9XNvV-ul88I"
   },
   "source": [
    "15. How do you get a list value's tuple form? How do you get a tuple value's list form?\n",
    "\n",
    "#for list to tuple\n",
    "\n",
    "\n",
    "mylist = [1,2,3,4]\n",
    "\n",
    "tup = tuple(mylist)\n",
    "\n",
    "print(tup) #it prints (1,2,3,4)\n",
    "\n",
    "\n",
    "#for touple to list\n",
    "\n",
    "mytup = (1,2,3,4)\n",
    "\n",
    "mylist = list(mytup)\n",
    "\n",
    "print(mylist) #prints [1,2,3,4]"
   ]
  },
  {
   "cell_type": "code",
   "execution_count": null,
   "metadata": {
    "id": "ZJrsqhtjmwVu"
   },
   "outputs": [],
   "source": []
  },
  {
   "cell_type": "markdown",
   "metadata": {
    "id": "R9_jD7vCmzSz"
   },
   "source": [
    "16. Variables that \"contain\" list values are not necessarily lists themselves. Instead, what do they contain?\n",
    "\n"
   ]
  },
  {
   "cell_type": "code",
   "execution_count": null,
   "metadata": {
    "id": "MMPEoVyPnrpY"
   },
   "outputs": [],
   "source": []
  },
  {
   "cell_type": "markdown",
   "metadata": {
    "id": "1hGYie1gnsbb"
   },
   "source": [
    "17. How do you distinguish between copy.copy() and copy.deepcopy()?\n",
    "\n",
    "in copy.copy() if we make changes to it, it will also reflect in the original and the copy version\n",
    "\n",
    "but in copy.deepcopy() it only reflects in the copied version but not the original"
   ]
  }
 ],
 "metadata": {
  "colab": {
   "authorship_tag": "ABX9TyOtQey4JfN1zZqNAO6vGGkC",
   "provenance": []
  },
  "kernelspec": {
   "display_name": "Python 3 (ipykernel)",
   "language": "python",
   "name": "python3"
  },
  "language_info": {
   "codemirror_mode": {
    "name": "ipython",
    "version": 3
   },
   "file_extension": ".py",
   "mimetype": "text/x-python",
   "name": "python",
   "nbconvert_exporter": "python",
   "pygments_lexer": "ipython3",
   "version": "3.9.13"
  }
 },
 "nbformat": 4,
 "nbformat_minor": 1
}
