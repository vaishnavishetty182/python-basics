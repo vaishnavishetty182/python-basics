{
 "cells": [
  {
   "cell_type": "code",
   "execution_count": null,
   "metadata": {
    "id": "dFWN-RmNC28J"
   },
   "outputs": [],
   "source": []
  },
  {
   "cell_type": "markdown",
   "metadata": {
    "id": "ZJyPGQIxC3vh"
   },
   "source": [
    "1. In the below elements which of them are values or an expression? eg:- values can be integer or string and expressions will be mathematical operators.\n",
    "\n",
    "*, - Expression\n",
    "\n",
    "'hello' - Value\n",
    "\n",
    "-87.8 - Value\n",
    "\n",
    "-, - Expression\n",
    "\n",
    "/, - Expression\n",
    "\n",
    "+, - Expression\n",
    "\n",
    "6, - Value\n",
    "\n",
    "\n"
   ]
  },
  {
   "cell_type": "code",
   "execution_count": null,
   "metadata": {
    "id": "TfVdSWcDEPuz"
   },
   "outputs": [],
   "source": []
  },
  {
   "cell_type": "markdown",
   "metadata": {
    "id": "Ql7M-QSxDf4B"
   },
   "source": [
    "2. What is the difference between string and variable?\n",
    "\n",
    "String is a combination of words and such where in these are placed under quotations, if a number is placed inside quotations then it is said to be a string\n",
    "\n",
    "eg: a=\"this is a string\"\n",
    "\n",
    "\n",
    "Variables are nothing but numbers, these are not needed to be placed inside quotations\n",
    "\n",
    "a= 9 #is a variable"
   ]
  },
  {
   "cell_type": "code",
   "execution_count": null,
   "metadata": {
    "id": "PRyNR97dC90Q"
   },
   "outputs": [],
   "source": []
  },
  {
   "cell_type": "markdown",
   "metadata": {
    "id": "U0b43WikEOQk"
   },
   "source": [
    "3. Describe three different data types.\n",
    "\n",
    "int - used for integers\n",
    "\n",
    "str -  used to represent strings\n",
    "\n",
    "boolean - returns true or false\n",
    "\n"
   ]
  },
  {
   "cell_type": "code",
   "execution_count": null,
   "metadata": {
    "id": "M6fjsvziEQ6w"
   },
   "outputs": [],
   "source": []
  },
  {
   "cell_type": "markdown",
   "metadata": {
    "id": "mwVZLb0-Ejik"
   },
   "source": [
    "4. What is an expression made up of? What do all expressions do?\n",
    "\n",
    "An expression is made up of mathematical oprations between two things\n",
    "if we have to add then we use\n",
    "\n",
    "a=1\n",
    "\n",
    "b=2\n",
    "\n",
    "print(a+b) we will get 1+2 which is 3\n",
    "\n",
    "all the expressions basically perfom mathematical operations like\n",
    "+, addition, - Subtract, % mod, / divide, // divide with rounding off, * multiply, ** exponential\n",
    "\n",
    "based on the mathematical expression in the expression it will be performed as per it"
   ]
  },
  {
   "cell_type": "code",
   "execution_count": null,
   "metadata": {
    "id": "v99d1hV_E_wL"
   },
   "outputs": [],
   "source": []
  },
  {
   "cell_type": "markdown",
   "metadata": {
    "id": "KGGfSPULFWD7"
   },
   "source": [
    "5. This assignment statements, like spam = 10. What is the difference between an expression and a statement?\n",
    "\n",
    "Expression basically produces a value\n",
    "2+3 = 5\n",
    "\n",
    "Statement basically assigns a value like spam=10\n",
    "\n",
    "expressions are considered a part of the statement"
   ]
  },
  {
   "cell_type": "code",
   "execution_count": null,
   "metadata": {
    "id": "yBj1ehCpF-PJ"
   },
   "outputs": [],
   "source": []
  },
  {
   "cell_type": "markdown",
   "metadata": {
    "id": "4EVXY_EbF-v4"
   },
   "source": [
    "6. After running the following code, what does the variable bacon contain?\n",
    "\n",
    "bacon = 22\n",
    "\n",
    "bacon + 1\n",
    "\n",
    "after running this statemtn bacon contains 23\n",
    "\n",
    "as it is being added with +1 so 22+1=23"
   ]
  },
  {
   "cell_type": "code",
   "execution_count": null,
   "metadata": {
    "colab": {
     "base_uri": "https://localhost:8080/"
    },
    "executionInfo": {
     "elapsed": 404,
     "status": "ok",
     "timestamp": 1733390083181,
     "user": {
      "displayName": "kannaya sai",
      "userId": "01360627964298848726"
     },
     "user_tz": -330
    },
    "id": "pcq2M6EGGIya",
    "outputId": "021d01c9-716e-4e4a-cf32-5ad1c1472daa"
   },
   "outputs": [
    {
     "data": {
      "text/plain": [
       "21"
      ]
     },
     "execution_count": 4,
     "metadata": {},
     "output_type": "execute_result"
    }
   ],
   "source": [
    "a=20\n",
    "a+1"
   ]
  },
  {
   "cell_type": "markdown",
   "metadata": {
    "id": "_Yx3kj-oGfSe"
   },
   "source": [
    "7. What should the values of the following two terms be?\n",
    "\n",
    "'spam' + 'spamspam'\n",
    "\n",
    "'spam' * 3\n",
    "\n",
    "value of both the above are\n",
    "\n",
    "spamspamspam\n",
    "\n"
   ]
  },
  {
   "cell_type": "code",
   "execution_count": null,
   "metadata": {
    "colab": {
     "base_uri": "https://localhost:8080/"
    },
    "executionInfo": {
     "elapsed": 373,
     "status": "ok",
     "timestamp": 1733390191795,
     "user": {
      "displayName": "kannaya sai",
      "userId": "01360627964298848726"
     },
     "user_tz": -330
    },
    "id": "QOkOSlNPGYN-",
    "outputId": "1a524aba-e7c8-425e-8b13-60af23dcdc68"
   },
   "outputs": [
    {
     "name": "stdout",
     "output_type": "stream",
     "text": [
      "spamspamspam\n",
      "spamspamspam\n"
     ]
    }
   ],
   "source": [
    "print('spam' + 'spamspam')\n",
    "print('spam'*3)\n"
   ]
  },
  {
   "cell_type": "markdown",
   "metadata": {
    "id": "516Kd8-KG1sC"
   },
   "source": [
    "8. Why is eggs a valid variable name while 100 is invalid?\n",
    "\n",
    "cause as per syntax a variable name cannot star with number if it has to be that way then it could be started with an (_) like _100 then it will be valid"
   ]
  },
  {
   "cell_type": "code",
   "execution_count": null,
   "metadata": {
    "id": "RTSaxlMwHNUA"
   },
   "outputs": [],
   "source": []
  },
  {
   "cell_type": "markdown",
   "metadata": {
    "id": "JNAoZRnaHOFk"
   },
   "source": [
    "9. What three functions can be used to get the integer, floating-point number, or string version of a value?\n",
    "\n",
    "int() for integer\n",
    "\n",
    "float() for float-point number\n",
    "\n",
    "str() for string"
   ]
  },
  {
   "cell_type": "code",
   "execution_count": null,
   "metadata": {
    "id": "xFutF_QhHeDr"
   },
   "outputs": [],
   "source": []
  },
  {
   "cell_type": "markdown",
   "metadata": {
    "id": "YuUBFNdbHetH"
   },
   "source": [
    "10. Why does this expression cause an error? How can you fix it?\n",
    "\n",
    "'I have eaten ' + 99 + ' burritos.'\n",
    "\n",
    "this can be fixed by\n",
    "\n",
    "'I have eaten ',99,' burritos.'\n",
    "\n",
    "or\n",
    "\n",
    "f\"I have eaten {99} burritos\""
   ]
  },
  {
   "cell_type": "code",
   "execution_count": null,
   "metadata": {
    "colab": {
     "base_uri": "https://localhost:8080/"
    },
    "executionInfo": {
     "elapsed": 386,
     "status": "ok",
     "timestamp": 1733390558492,
     "user": {
      "displayName": "kannaya sai",
      "userId": "01360627964298848726"
     },
     "user_tz": -330
    },
    "id": "gfQUoMDDH-Uu",
    "outputId": "9d986a56-492a-491b-ea55-ff5a7790ed30"
   },
   "outputs": [
    {
     "name": "stdout",
     "output_type": "stream",
     "text": [
      "I have eaten 99 burritos\n",
      "I have eaten 99 burritos.\n"
     ]
    }
   ],
   "source": [
    "print(f\"I have eaten {99} burritos.\")\n",
    "print('I have eaten',99,'burritos.')"
   ]
  },
  {
   "cell_type": "markdown",
   "metadata": {
    "id": "vnO2QqLBIPy0"
   },
   "source": []
  },
  {
   "cell_type": "code",
   "execution_count": null,
   "metadata": {
    "id": "Y3CbM751IHXm"
   },
   "outputs": [],
   "source": []
  }
 ],
 "metadata": {
  "colab": {
   "authorship_tag": "ABX9TyN2YS3CaYMnb2n4I3q7PqcS",
   "provenance": []
  },
  "kernelspec": {
   "display_name": "Python 3 (ipykernel)",
   "language": "python",
   "name": "python3"
  },
  "language_info": {
   "codemirror_mode": {
    "name": "ipython",
    "version": 3
   },
   "file_extension": ".py",
   "mimetype": "text/x-python",
   "name": "python",
   "nbconvert_exporter": "python",
   "pygments_lexer": "ipython3",
   "version": "3.9.13"
  }
 },
 "nbformat": 4,
 "nbformat_minor": 1
}
