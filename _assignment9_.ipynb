{
 "cells": [
  {
   "cell_type": "code",
   "execution_count": null,
   "metadata": {
    "id": "XIE1_124RuRx"
   },
   "outputs": [],
   "source": []
  },
  {
   "cell_type": "markdown",
   "metadata": {
    "id": "gs8nSUeUR5j7"
   },
   "source": [
    "1. What is a lambda function in Python, and how does it differ from a regular function?\n",
    "\n",
    "A lambda function is a small, anonymous function defined using the lambda keyword.\n",
    "\n",
    "It can have only one expression and is written in a single line.\n",
    "\n",
    "Difference - Lambda functions are for short, throwaway functions, while regular functions are more readable and support multiple expressions.\n",
    "\n",
    "\n",
    ".\n",
    "2. Can a lambda function in Python have multiple arguments? If yes, how can you define and use\n",
    "them?\n",
    "\n",
    "yes by using comas\n",
    "\n",
    "multiply = lambda x, y: x * y\n",
    "\n",
    "print(multiply(3, 4))\n",
    "\n",
    ".\n",
    "\n",
    "3. How are lambda functions typically used in Python? Provide an example use case.\n",
    "\n",
    "Used in one-liner expressions and higher-order functions like map(), filter(), and sorted().\n",
    "\n",
    ".\n",
    "\n",
    "4. What are the advantages and limitations of lambda functions compared to regular functions in\n",
    "Python?\n",
    "\n",
    "Advantages:\n",
    "Concise and one-liner functions.\n",
    "Ideal for short-lived functionality.\n",
    "\n",
    "Limitations:\n",
    "Limited readability for complex logic.\n",
    "Cannot have statements, only expressions.\n",
    "\n",
    ".\n",
    "5. Are lambda functions in Python able to access variables defined outside of their own scope?\n",
    "Explain with an example.\n",
    "\n",
    "yes\n",
    "\n",
    "x = 10\n",
    "\n",
    "increment = lambda y: y + x\n",
    "\n",
    "print(increment(5))"
   ]
  },
  {
   "cell_type": "code",
   "execution_count": null,
   "metadata": {
    "id": "bkZjxgPnTx5Q"
   },
   "outputs": [],
   "source": []
  },
  {
   "cell_type": "markdown",
   "metadata": {
    "id": "36KWtmsqTzs0"
   },
   "source": [
    "6. Write a lambda function to calculate the square of a given number."
   ]
  },
  {
   "cell_type": "code",
   "execution_count": 1,
   "metadata": {
    "colab": {
     "base_uri": "https://localhost:8080/"
    },
    "executionInfo": {
     "elapsed": 596,
     "status": "ok",
     "timestamp": 1733511146947,
     "user": {
      "displayName": "kannaya sai",
      "userId": "01360627964298848726"
     },
     "user_tz": -330
    },
    "id": "HoEDSnSyT-B9",
    "outputId": "85845905-9a5b-47fa-d5ab-d195d81e93bf"
   },
   "outputs": [
    {
     "name": "stdout",
     "output_type": "stream",
     "text": [
      "25\n"
     ]
    }
   ],
   "source": [
    "square = lambda x: x ** 2\n",
    "print(square(5))"
   ]
  },
  {
   "cell_type": "markdown",
   "metadata": {
    "id": "H3hCBVliUOaL"
   },
   "source": [
    "7. Create a lambda function to find the maximum value in a list of integers."
   ]
  },
  {
   "cell_type": "code",
   "execution_count": 2,
   "metadata": {
    "colab": {
     "base_uri": "https://localhost:8080/"
    },
    "executionInfo": {
     "elapsed": 353,
     "status": "ok",
     "timestamp": 1733511175283,
     "user": {
      "displayName": "kannaya sai",
      "userId": "01360627964298848726"
     },
     "user_tz": -330
    },
    "id": "vdW6y8jTUC1x",
    "outputId": "96775358-8817-481e-96d4-18b3274715ec"
   },
   "outputs": [
    {
     "name": "stdout",
     "output_type": "stream",
     "text": [
      "8\n"
     ]
    }
   ],
   "source": [
    "find_max = lambda nums: max(nums)\n",
    "print(find_max([3, 7, 2, 8, 5]))"
   ]
  },
  {
   "cell_type": "markdown",
   "metadata": {
    "id": "OymD4iYvUWZj"
   },
   "source": [
    "8. Implement a lambda function to filter out all the even numbers from a list of integers."
   ]
  },
  {
   "cell_type": "code",
   "execution_count": 3,
   "metadata": {
    "colab": {
     "base_uri": "https://localhost:8080/"
    },
    "executionInfo": {
     "elapsed": 613,
     "status": "ok",
     "timestamp": 1733511413831,
     "user": {
      "displayName": "kannaya sai",
      "userId": "01360627964298848726"
     },
     "user_tz": -330
    },
    "id": "ucknY3bcUViV",
    "outputId": "f3dd151a-6c25-4a48-a432-5b26ea9bb157"
   },
   "outputs": [
    {
     "name": "stdout",
     "output_type": "stream",
     "text": [
      "[1, 3, 5]\n"
     ]
    }
   ],
   "source": [
    "filter_evens = lambda nums: [x for x in nums if x % 2 != 0]\n",
    "print(filter_evens([1, 2, 3, 4, 5, 6]))"
   ]
  },
  {
   "cell_type": "markdown",
   "metadata": {
    "id": "6bQI-mgVUW8B"
   },
   "source": [
    "9. Write a lambda function to sort a list of strings in ascending order based on the length of each\n",
    "string."
   ]
  },
  {
   "cell_type": "code",
   "execution_count": 4,
   "metadata": {
    "colab": {
     "base_uri": "https://localhost:8080/"
    },
    "executionInfo": {
     "elapsed": 619,
     "status": "ok",
     "timestamp": 1733512042000,
     "user": {
      "displayName": "kannaya sai",
      "userId": "01360627964298848726"
     },
     "user_tz": -330
    },
    "id": "EYbmDQlYUXUl",
    "outputId": "4fdf8156-2279-4bb5-eaab-304c870ebc9f"
   },
   "outputs": [
    {
     "name": "stdout",
     "output_type": "stream",
     "text": [
      "['date', 'apple', 'banana', 'cherry']\n"
     ]
    }
   ],
   "source": [
    "stringg = lambda strings: sorted(strings, key=lambda x:len(x))\n",
    "print(stringg([\"apple\", \"banana\", \"cherry\", \"date\"]))\n"
   ]
  },
  {
   "cell_type": "markdown",
   "metadata": {
    "id": "CLobZ8Q-UXx_"
   },
   "source": [
    "10. Create a lambda function that takes two lists as input and returns a new list containing the\n",
    "common elements between the two lists."
   ]
  },
  {
   "cell_type": "code",
   "execution_count": 5,
   "metadata": {
    "colab": {
     "base_uri": "https://localhost:8080/"
    },
    "executionInfo": {
     "elapsed": 349,
     "status": "ok",
     "timestamp": 1733512116628,
     "user": {
      "displayName": "kannaya sai",
      "userId": "01360627964298848726"
     },
     "user_tz": -330
    },
    "id": "cML2BMgJUYH2",
    "outputId": "581d8a25-1ddd-4d39-ce7f-3ca2e9209f6b"
   },
   "outputs": [
    {
     "name": "stdout",
     "output_type": "stream",
     "text": [
      "[2, 3]\n"
     ]
    }
   ],
   "source": [
    "find_common = lambda list1, list2: list(filter(lambda x: x in list2, list1))\n",
    "print(find_common([1, 2, 3], [2, 3, 4]))"
   ]
  },
  {
   "cell_type": "markdown",
   "metadata": {
    "id": "7fE0OLkLUYh1"
   },
   "source": [
    "11. Write a recursive function to calculate the factorial of a given positive integer."
   ]
  },
  {
   "cell_type": "code",
   "execution_count": 6,
   "metadata": {
    "colab": {
     "base_uri": "https://localhost:8080/"
    },
    "executionInfo": {
     "elapsed": 334,
     "status": "ok",
     "timestamp": 1733512188809,
     "user": {
      "displayName": "kannaya sai",
      "userId": "01360627964298848726"
     },
     "user_tz": -330
    },
    "id": "CU492JhHUY3k",
    "outputId": "4474a205-faa4-4802-81a9-252677ca8206"
   },
   "outputs": [
    {
     "name": "stdout",
     "output_type": "stream",
     "text": [
      "120\n"
     ]
    }
   ],
   "source": [
    "def factorial(n):\n",
    "    if n == 0 or n == 1:\n",
    "        return 1\n",
    "    return n * factorial(n - 1)\n",
    "\n",
    "print(factorial(5))"
   ]
  },
  {
   "cell_type": "markdown",
   "metadata": {
    "id": "8rRFGocMX_QM"
   },
   "source": [
    "12. Implement a recursive function to compute the nth Fibonacci number."
   ]
  },
  {
   "cell_type": "code",
   "execution_count": 7,
   "metadata": {
    "colab": {
     "base_uri": "https://localhost:8080/"
    },
    "executionInfo": {
     "elapsed": 364,
     "status": "ok",
     "timestamp": 1733512289417,
     "user": {
      "displayName": "kannaya sai",
      "userId": "01360627964298848726"
     },
     "user_tz": -330
    },
    "id": "k20E5Ql9X_p_",
    "outputId": "3e438658-cf72-435c-924d-c173fd3a942d"
   },
   "outputs": [
    {
     "name": "stdout",
     "output_type": "stream",
     "text": [
      "8\n"
     ]
    }
   ],
   "source": [
    "def fibonacci(n):\n",
    "    if n <= 1:\n",
    "        return n\n",
    "    return fibonacci(n - 1) + fibonacci(n - 2)\n",
    "\n",
    "print(fibonacci(6))"
   ]
  },
  {
   "cell_type": "markdown",
   "metadata": {
    "id": "IDWM_g5-X_9W"
   },
   "source": [
    "13. Create a recursive function to find the sum of all the elements in a given list."
   ]
  },
  {
   "cell_type": "code",
   "execution_count": 8,
   "metadata": {
    "colab": {
     "base_uri": "https://localhost:8080/"
    },
    "executionInfo": {
     "elapsed": 588,
     "status": "ok",
     "timestamp": 1733512344426,
     "user": {
      "displayName": "kannaya sai",
      "userId": "01360627964298848726"
     },
     "user_tz": -330
    },
    "id": "Uj76YDXdYATC",
    "outputId": "18bb1cd7-d643-4ab8-94c9-63b5bdc379dd"
   },
   "outputs": [
    {
     "name": "stdout",
     "output_type": "stream",
     "text": [
      "10\n"
     ]
    }
   ],
   "source": [
    "def sum_list(nums):\n",
    "    if not nums:\n",
    "        return 0\n",
    "    return nums[0] + sum_list(nums[1:])\n",
    "\n",
    "print(sum_list([1, 2, 3, 4]))"
   ]
  },
  {
   "cell_type": "markdown",
   "metadata": {
    "id": "CJ075JU5YAm7"
   },
   "source": [
    "14. Write a recursive function to determine whether a given string is a palindrome."
   ]
  },
  {
   "cell_type": "code",
   "execution_count": null,
   "metadata": {
    "id": "ZLiGueXwYWPd"
   },
   "outputs": [],
   "source": [
    "def is_palindrome(s):\n",
    "    if len(s) <= 1:\n",
    "        return True\n",
    "    if s[0] != s[-1]:\n",
    "        return False\n",
    "    return is_palindrome(s[1:-1])\n",
    "\n",
    "print(is_palindrome(\"radar\"))\n",
    "print(is_palindrome(\"hello\"))"
   ]
  },
  {
   "cell_type": "markdown",
   "metadata": {
    "id": "bKhlWTEaYUym"
   },
   "source": [
    "15. Implement a recursive function to find the greatest common divisor (GCD) of two positive integers."
   ]
  },
  {
   "cell_type": "code",
   "execution_count": 9,
   "metadata": {
    "colab": {
     "base_uri": "https://localhost:8080/"
    },
    "executionInfo": {
     "elapsed": 335,
     "status": "ok",
     "timestamp": 1733512540600,
     "user": {
      "displayName": "kannaya sai",
      "userId": "01360627964298848726"
     },
     "user_tz": -330
    },
    "id": "Ra4nAGiJYVRR",
    "outputId": "7a38ffb4-4f9b-43b4-b6f6-5f7acb4e499e"
   },
   "outputs": [
    {
     "name": "stdout",
     "output_type": "stream",
     "text": [
      "6\n"
     ]
    }
   ],
   "source": [
    "def gcd(a, b):\n",
    "    if b == 0:\n",
    "        return a\n",
    "    return gcd(b, a % b)\n",
    "\n",
    "print(gcd(48, 18))"
   ]
  },
  {
   "cell_type": "code",
   "execution_count": null,
   "metadata": {
    "id": "qebvVgdSZi3x"
   },
   "outputs": [],
   "source": []
  }
 ],
 "metadata": {
  "colab": {
   "authorship_tag": "ABX9TyNtDNdi1qoyEF6R+UnK8N4f",
   "provenance": []
  },
  "kernelspec": {
   "display_name": "Python 3 (ipykernel)",
   "language": "python",
   "name": "python3"
  },
  "language_info": {
   "codemirror_mode": {
    "name": "ipython",
    "version": 3
   },
   "file_extension": ".py",
   "mimetype": "text/x-python",
   "name": "python",
   "nbconvert_exporter": "python",
   "pygments_lexer": "ipython3",
   "version": "3.9.13"
  }
 },
 "nbformat": 4,
 "nbformat_minor": 1
}
